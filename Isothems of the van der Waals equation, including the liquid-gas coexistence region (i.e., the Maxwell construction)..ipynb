{
 "cells": [
  {
   "cell_type": "code",
   "execution_count": 1,
   "metadata": {},
   "outputs": [],
   "source": [
    "import numpy as np\n",
    "import matplotlib.pyplot as plt\n",
    "from scipy import integrate, optimize\n",
    "\n",
    "import warnings\n",
    "warnings.filterwarnings('ignore')\n",
    "%matplotlib inline"
   ]
  },
  {
   "cell_type": "code",
   "execution_count": 60,
   "metadata": {},
   "outputs": [],
   "source": [
    "tau = 0.9"
   ]
  },
  {
   "cell_type": "markdown",
   "metadata": {},
   "source": [
    "Van der Waals equation\n",
    "$$\n",
    "PV^3\\,-(Pb + RT)V^2\\,+aV\\,-ab\\! = 0\n",
    "$$\n",
    "\n",
    "Rewright paramenters ${\\phi} = \\frac{V}{V_c},{\\pi} = \\frac{P}{P_c},{\\tau} = \\frac{T}{T_c} $, reduced equation of state will be:\n",
    "\n",
    "$$\n",
    "({\\pi} + \\frac{3}{{\\phi}^2})({\\phi}-\\frac{1}{3}) = \\frac{8}{3}{\\tau}\n",
    "$$\n",
    "\n",
    "$$\n",
    "{\\pi} =  \\frac{\\frac{8}{3}{\\tau}}{{\\phi}-\\frac{1}{3}} - \\frac{3}{{\\phi}^2}\n",
    "$$"
   ]
  },
  {
   "cell_type": "code",
   "execution_count": 174,
   "metadata": {},
   "outputs": [],
   "source": [
    "def van_der_waals(phi):\n",
    "    \"\"\"VdW gas presure as a function of reduced volume.\"\"\"\n",
    "    return ((8/3)*tau)/(phi-(1/3))-(3/(phi**2))"
   ]
  },
  {
   "cell_type": "code",
   "execution_count": 187,
   "metadata": {},
   "outputs": [
    {
     "name": "stderr",
     "output_type": "stream",
     "text": [
      "D:\\anaconda\\lib\\site-packages\\matplotlib\\axes\\_axes.py:545: UserWarning: No labelled objects found. Use label='...' kwarg on individual plots.\n",
      "  warnings.warn(\"No labelled objects found. \"\n"
     ]
    },
    {
     "data": {
      "image/png": "[encoded data removed]",
      "text/plain": [
       "<matplotlib.figure.Figure at 0x9472e16400>"
      ]
     },
     "metadata": {},
     "output_type": "display_data"
    }
   ],
   "source": [
    "phi = np.linspace(0.5, 5, 1000)\n",
    "pi = van_der_waals(phi)\n",
    "plt.plot(phi, pi)\n",
    "\n",
    "pi1 = 0.65 #изобара, точки пересечения с которой необходимо найти, чтобы, проинтегрировав, получить площади над и под ней и сравнить (правило Маквелла)\n",
    "plt.plot([0.5, 5],[pi1, pi1], 'k--', c = 'g')\n",
    "\n",
    "plt.xlabel('V')\n",
    "plt.ylabel('P')\n",
    "plt.axis([0.5, 4, 0.4, 1.5])\n",
    "\n",
    "plt.legend()\n",
    "plt.title('Isothems of the van der Waals equation')\n",
    "plt.grid()"
   ]
  },
  {
   "cell_type": "markdown",
   "metadata": {},
   "source": [
    "Чтобы найти точки пересечения изохоры с изобарой необходимо решить полиномиальное приведенное уравнение состояния, с ${\\pi}$ = 0.65 \n",
    "$$\n",
    "{\\pi}{\\phi} - \\frac{\\pi}{3} + \\frac{3}{{\\phi}} - \\frac{1}{\\phi^2} = \\frac{8}{3\\tau}\n",
    "$$\n",
    "Домножим на ${\\phi^2}$\n",
    "$$\n",
    "{\\pi}{\\phi^3} - \\frac{1}{3}{\\phi^2}({\\pi + 8\\tau}) + 3\\phi - 1 = 0\n",
    "$$"
   ]
  },
  {
   "cell_type": "code",
   "execution_count": 188,
   "metadata": {},
   "outputs": [
    {
     "name": "stdout",
     "output_type": "stream",
     "text": [
      "[ 0.60286812  1.09743234  2.32534056]\n"
     ]
    }
   ],
   "source": [
    "van_der_waals_pl = [pi1, - (1/3)*(pi1 + 8*tau), + 3, -1] #Коэффициенты при phi\n",
    "phi = np.roots(van_der_waals_pl)\n",
    "phi.sort()\n",
    "print(phi)\n",
    "V = phi"
   ]
  },
  {
   "cell_type": "code",
   "execution_count": 189,
   "metadata": {},
   "outputs": [
    {
     "name": "stdout",
     "output_type": "stream",
     "text": [
      "[ 0.60286812  1.09743234  2.32534056]\n"
     ]
    },
    {
     "name": "stderr",
     "output_type": "stream",
     "text": [
      "D:\\anaconda\\lib\\site-packages\\matplotlib\\axes\\_axes.py:545: UserWarning: No labelled objects found. Use label='...' kwarg on individual plots.\n",
      "  warnings.warn(\"No labelled objects found. \"\n"
     ]
    },
    {
     "data": {
      "text/plain": [
       "<matplotlib.collections.PathCollection at 0x9473049a90>"
      ]
     },
     "execution_count": 189,
     "metadata": {},
     "output_type": "execute_result"
    },
    {
     "data": {
      "image/png": "[encoded data removed]",
      "text/plain": [
       "<matplotlib.figure.Figure at 0x9472facda0>"
      ]
     },
     "metadata": {},
     "output_type": "display_data"
    }
   ],
   "source": [
    "phi = np.linspace(0.5, 5, 100)\n",
    "pi = van_der_waals(phi)\n",
    "plt.plot(phi, pi)\n",
    "\n",
    "pi1 = 0.65 #изобара, точки пересечения с которой необходимо найти, чтобы, проинтегрировав, получить площади над и под ней и сравнить (правило Маквелла)\n",
    "plt.plot([0.5, 5],[pi1, pi1], 'k--', c = 'g')\n",
    "\n",
    "plt.xlabel('V')\n",
    "plt.ylabel('P')\n",
    "plt.axis([0.5, 4, 0.4, 1.5])\n",
    "\n",
    "plt.legend()\n",
    "plt.title('Isothems of the van der Waals equation')\n",
    "plt.grid()\n",
    "print(V)\n",
    "plt.scatter(V, van_der_waals(V) , label = 'intersection', marker = '.', s=150)\n"
   ]
  },
  {
   "cell_type": "code",
   "execution_count": 210,
   "metadata": {},
   "outputs": [
    {
     "name": "stdout",
     "output_type": "stream",
     "text": [
      "0.063225945606 0.0580212098122\n",
      "-0.798140339268 -0.794430011193\n"
     ]
    }
   ],
   "source": [
    "\"\"\"\n",
    "area1 - площадь, образованная изотермой и изобарой между [0] и [1] \n",
    "чтобы найти ее, находится площадь под изобарой на данном интервале из которой вычитается площадь под изотермой\n",
    "\n",
    "area2 - площадь, образованная изотермой и изобарой между [1] и [2] \n",
    "чтобы найти ее, находится площадь под изотермой на данном интервале из которой вычитается площадь под изобарой\n",
    "\n",
    "\"\"\"\n",
    "area1, l1= (V[1] - V[0]) * pi1 - integrate.quad(van_der_waals,  V[0], V[1])\n",
    "area2, l1 = integrate.quad(van_der_waals, V[1], V[2]) - (V[2] - V[1])* pi1\n",
    "\n",
    "print (area1, area2)\n",
    "print(l1, l2)"
   ]
  },
  {
   "cell_type": "code",
   "execution_count": 191,
   "metadata": {},
   "outputs": [],
   "source": [
    "def areas(pi1):\n",
    "    tau = 0.9\n",
    "    van_der_waals_pl = [pi1, - (1/3)*(pi1 + 8*tau), + 3, -1] #coeffs phi\n",
    "    phi = np.roots(van_der_waals_pl)\n",
    "    phi.sort()\n",
    "    \n",
    "    area1, l1= (V[1] - V[0]) * pi1 - integrate.quad(van_der_waals,  V[0], V[1])\n",
    "    area2, l2 = integrate.quad(van_der_waals, V[1], V[2]) - (V[2] - V[1])* pi1\n",
    "    \n",
    "    return area1 - area2"
   ]
  },
  {
   "cell_type": "code",
   "execution_count": 192,
   "metadata": {},
   "outputs": [
    {
     "name": "stdout",
     "output_type": "stream",
     "text": [
      "[ 0.64697833]\n"
     ]
    }
   ],
   "source": [
    "pi_equav = optimize.fsolve(areas, 0.65) #Find the roots of a function Return the roots of the (non-linear) equations defined by func(x) = 0 given a starting estimate.\n",
    "print (pi_equav)"
   ]
  },
  {
   "cell_type": "code",
   "execution_count": 193,
   "metadata": {},
   "outputs": [
    {
     "name": "stdout",
     "output_type": "stream",
     "text": [
      "0.0617315378864 0.0617315378864\n"
     ]
    }
   ],
   "source": [
    "tau = 0.9\n",
    "van_der_waals_pl = [pi_equav, - (1/3)*(pi_equav + 8*tau), + 3, -1]\n",
    "v = np.roots(van_der_waals_pl)\n",
    "v.sort()\n",
    "\n",
    "area1, l1 = (V[1] - V[0]) * pi_equav - integrate.quad(van_der_waals,  V[0], V[1])\n",
    "area2, l2 = integrate.quad(van_der_waals, V[1], V[2]) - (V[2] - V[1]) * pi_equav\n",
    "\n",
    "print (area1, area2)"
   ]
  },
  {
   "cell_type": "code",
   "execution_count": 223,
   "metadata": {},
   "outputs": [
    {
     "data": {
      "text/plain": [
       "<matplotlib.collections.PolyCollection at 0x94730d72e8>"
      ]
     },
     "execution_count": 223,
     "metadata": {},
     "output_type": "execute_result"
    },
    {
     "data": {
      "image/png": "[encoded data removed]",
      "text/plain": [
       "<matplotlib.figure.Figure at 0x947177b080>"
      ]
     },
     "metadata": {},
     "output_type": "display_data"
    }
   ],
   "source": [
    "fig = plt.gcf()\n",
    "ax = fig.add_subplot(111)\n",
    "\n",
    "ax.plot(phi,pi)\n",
    "\n",
    "between_line = np.ones(phi.size) * pi_equav\n",
    "\n",
    "ax.plot(phi, hline)\n",
    "ax.fill_between(phi, between_line, pi, where=(phi >= V[0]) & (phi <= V[1]), facecolor='g')\n",
    "ax.fill_between(phi, between_line, pi, where=(phi >= V[1]) & (phi <= V[2]), facecolor='g')"
   ]
  },
  {
   "cell_type": "code",
   "execution_count": null,
   "metadata": {},
   "outputs": [],
   "source": []
  },
  {
   "cell_type": "code",
   "execution_count": null,
   "metadata": {},
   "outputs": [],
   "source": []
  },
  {
   "cell_type": "code",
   "execution_count": null,
   "metadata": {},
   "outputs": [],
   "source": []
  }
 ],
 "metadata": {
  "kernelspec": {
   "display_name": "Python 3",
   "language": "python",
   "name": "python3"
  },
  "language_info": {
   "codemirror_mode": {
    "name": "ipython",
    "version": 3
   },
   "file_extension": ".py",
   "mimetype": "text/x-python",
   "name": "python",
   "nbconvert_exporter": "python",
   "pygments_lexer": "ipython3",
   "version": "3.7.1"
  }
 },
 "nbformat": 4,
 "nbformat_minor": 2
}
